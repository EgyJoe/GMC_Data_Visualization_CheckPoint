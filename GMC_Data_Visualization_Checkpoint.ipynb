{
  "nbformat": 4,
  "nbformat_minor": 0,
  "metadata": {
    "colab": {
      "name": "GMC_Data_Visualization_Checkpoint.ipynb",
      "provenance": [],
      "collapsed_sections": []
    },
    "kernelspec": {
      "name": "python3",
      "display_name": "Python 3"
    },
    "language_info": {
      "name": "python"
    }
  },
  "cells": [
    {
      "cell_type": "code",
      "execution_count": null,
      "metadata": {
        "id": "rvPoi56BhZAJ"
      },
      "outputs": [],
      "source": [
        "import pandas as pd\n",
        "import seaborn as sns\n",
        "\n",
        "# importing the dataset\n",
        "df = pd.read_csv(r'titanic-passengers.csv', low_memory=False, sep = ';')\n",
        "# showing the head of the dataset\n",
        "df.head(3)"
      ]
    },
    {
      "cell_type": "code",
      "source": [
        "# general information about the data columns and values\n",
        "print('Dataset Info:')\n",
        "df.info()\n",
        "\n",
        "print('Dataset Null values distribution:')\n",
        "df.isnull().sum()"
      ],
      "metadata": {
        "id": "hL_I2rIqhi3h"
      },
      "execution_count": null,
      "outputs": []
    },
    {
      "cell_type": "code",
      "source": [
        "# Preprocessing the data\n",
        "# Replacing null age with mean\n",
        "df['Age'].fillna((df['Age'].median()), inplace=True)\n",
        "\n",
        "# Dropping Cabin coulmn since most of it is blank\n",
        "df.drop(['Cabin'], axis = 1, inplace=True)"
      ],
      "metadata": {
        "id": "sGNFCjNDhjMM"
      },
      "execution_count": null,
      "outputs": []
    },
    {
      "cell_type": "code",
      "source": [
        "sns.histplot(df.groupby(['Survived', 'Age']).size())\n",
        "sns.histplot.title = \"Age vs Survival\""
      ],
      "metadata": {
        "id": "Ci5lb1NDhjhe"
      },
      "execution_count": null,
      "outputs": []
    }
  ]
}